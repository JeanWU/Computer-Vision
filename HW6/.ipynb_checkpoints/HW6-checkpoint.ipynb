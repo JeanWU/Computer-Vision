{
 "cells": [
  {
   "cell_type": "code",
   "execution_count": 1,
   "metadata": {},
   "outputs": [],
   "source": [
    "import cv2\n",
    "from matplotlib import pyplot as plt\n",
    "import numpy as np\n",
    "\n",
    "img = cv2.imread('lena.bmp')"
   ]
  },
  {
   "cell_type": "code",
   "execution_count": 2,
   "metadata": {},
   "outputs": [],
   "source": [
    "binary = img.copy()"
   ]
  },
  {
   "cell_type": "markdown",
   "metadata": {},
   "source": [
    "#### Step1. Convert lena to binary image"
   ]
  },
  {
   "cell_type": "code",
   "execution_count": 3,
   "metadata": {},
   "outputs": [],
   "source": [
    "for i in range(binary.shape[0]):\n",
    "    for j in range(binary.shape[1]):\n",
    "        if binary[i,j,1]>=128:\n",
    "            binary[i,j]=255\n",
    "        else:\n",
    "            binary[i,j]=0"
   ]
  },
  {
   "cell_type": "code",
   "execution_count": 4,
   "metadata": {},
   "outputs": [
    {
     "data": {
      "text/plain": [
       "<matplotlib.image.AxesImage at 0x24e210dc4e0>"
      ]
     },
     "execution_count": 4,
     "metadata": {},
     "output_type": "execute_result"
    },
    {
     "data": {
      "image/png": "[encoded data removed]",
      "text/plain": [
       "<Figure size 432x288 with 1 Axes>"
      ]
     },
     "metadata": {},
     "output_type": "display_data"
    }
   ],
   "source": [
    "%matplotlib inline\n",
    "plt.imshow(binary)"
   ]
  },
  {
   "cell_type": "markdown",
   "metadata": {},
   "source": [
    "#### Step2. Downsampling from 512x512 to 64x64 "
   ]
  },
  {
   "cell_type": "code",
   "execution_count": 5,
   "metadata": {},
   "outputs": [],
   "source": [
    "downsample=np.zeros((64, 64))\n",
    "\n",
    "for i in range(downsample.shape[0]):\n",
    "    for j in range(downsample.shape[1]):\n",
    "        downsample[i,j]=binary[i*8, j*8, 1]\n",
    "        \n",
    "downsample=downsample.astype(int)"
   ]
  },
  {
   "cell_type": "code",
   "execution_count": 6,
   "metadata": {
    "scrolled": true
   },
   "outputs": [
    {
     "data": {
      "text/plain": [
       "<matplotlib.image.AxesImage at 0x24e21177128>"
      ]
     },
     "execution_count": 6,
     "metadata": {},
     "output_type": "execute_result"
    },
    {
     "data": {
      "image/png": "[encoded data removed]",
      "text/plain": [
       "<Figure size 432x288 with 1 Axes>"
      ]
     },
     "metadata": {},
     "output_type": "display_data"
    }
   ],
   "source": [
    "%matplotlib inline\n",
    "plt.imshow(downsample)"
   ]
  },
  {
   "cell_type": "markdown",
   "metadata": {},
   "source": [
    "#### Step3. create h function and f function"
   ]
  },
  {
   "cell_type": "code",
   "execution_count": 7,
   "metadata": {},
   "outputs": [],
   "source": [
    "def h(b,c,d,e):\n",
    "    if (b==c) and ((d!=b) or (e!=b)):\n",
    "        return 'q'\n",
    "    if (b==c) and (d==b) and (e==b):\n",
    "        return 'r'\n",
    "    if (b!=c):\n",
    "        return 's'"
   ]
  },
  {
   "cell_type": "code",
   "execution_count": 8,
   "metadata": {},
   "outputs": [],
   "source": [
    "def f(a1, a2, a3, a4):\n",
    "    if ([a1,a2,a3,a4].count('r')==4):\n",
    "        return 5\n",
    "    else:\n",
    "        return [a1,a2,a3,a4].count('q')"
   ]
  },
  {
   "cell_type": "markdown",
   "metadata": {},
   "source": [
    "#### Step4. create function to return the value of x0, x1...x8 (based on the position)"
   ]
  },
  {
   "cell_type": "code",
   "execution_count": 9,
   "metadata": {},
   "outputs": [],
   "source": [
    "def x(src_img,row,col):\n",
    "    pos=[[0,0],[0,1],[-1,0],[0,-1],[1,0],[1,1],[-1,1],[-1,-1],[1,-1]]\n",
    "    x_var=[]\n",
    "    for i in range(9):\n",
    "        if (0<=row+pos[i][0]<=63) and (0<=col+pos[i][1]<=63) and (src_img[row+pos[i][0], col+pos[i][1]]==255):\n",
    "            x_var.append(1)\n",
    "        else:\n",
    "            x_var.append(0)\n",
    "    return x_var"
   ]
  },
  {
   "cell_type": "markdown",
   "metadata": {},
   "source": [
    "#### Step5. count Yokoi number"
   ]
  },
  {
   "cell_type": "code",
   "execution_count": 10,
   "metadata": {},
   "outputs": [],
   "source": [
    "def Yokoi(src_img, output):\n",
    "    for i in range(src_img.shape[0]):\n",
    "        for j in range(src_img.shape[1]):\n",
    "            if src_img[i,j]==255:\n",
    "                x_var=x(src_img,i,j)\n",
    "                a1=h(x_var[0],x_var[1],x_var[6],x_var[2])\n",
    "                a2=h(x_var[0],x_var[2],x_var[7],x_var[3])\n",
    "                a3=h(x_var[0],x_var[3],x_var[8],x_var[4])\n",
    "                a4=h(x_var[0],x_var[4],x_var[5],x_var[1])\n",
    "                output[i,j]=str(f(a1,a2,a3,a4))\n",
    "            else:\n",
    "                output[i,j]=' '\n",
    "    return output"
   ]
  },
  {
   "cell_type": "code",
   "execution_count": 11,
   "metadata": {},
   "outputs": [],
   "source": [
    "yokoi_number=np.full((64, 64),' ')\n",
    "yokoi_number=Yokoi(downsample,yokoi_number)"
   ]
  },
  {
   "cell_type": "code",
   "execution_count": 12,
   "metadata": {},
   "outputs": [
    {
     "name": "stdout",
     "output_type": "stream",
     "text": [
      "11111111        12111111111122322221     111111111111       0  0\n",
      "\n",
      "15555551         115555555511 2 11  11   1155555555511        0 \n",
      "\n",
      "15555551        1 2115555112  21112221    155555555551      21  \n",
      "\n",
      "15555551        1 2 155112 22221511       1555555555511     1   \n",
      "\n",
      "15555551         22 2112 22    121 0 0    15555555555511   0    \n",
      "\n",
      "15555551         1  2  21 2     1   1     15555555555551  0     \n",
      "\n",
      "15555551           12 1  121111    1321   155555555555511       \n",
      "\n",
      "15111551           1322 1155551111        155555555555551       \n",
      "\n",
      "111 1551            1  121555555511       155555555555511       \n",
      "\n",
      "11  1551                 21155555511      15511155555511        \n",
      "\n",
      "21  1551                 2 15555555111    1551 11555511         \n",
      "\n",
      "1   1551                 2 155555555511   1551  115551         1\n",
      "\n",
      "    1551               1121155555555551   1551   15511        12\n",
      "\n",
      "    1551               15555555555555511  1551   1111        111\n",
      "\n",
      "    1551        1     2221155555555555511 1151    11        1151\n",
      "\n",
      "    1551        2    22 1 1555555555555511 151  11111       1551\n",
      "\n",
      "    1551        2    1   11555555555555551 151 115551      11551\n",
      "\n",
      "    1551        2       11555555555555555111511155511     115551\n",
      "\n",
      "    1551       12      11555555555555555555555555551      155551\n",
      "\n",
      "    1551       11   0 221555555555555555555555555112     1155551\n",
      "\n",
      "    1551       111   22 15555555555555555555555551 1     1555551\n",
      "\n",
      "    1551       1511  1 125112111112111555555555111      11555551\n",
      "\n",
      "    1551       15521  1 121 1 11  1  15555555111  0     15555551\n",
      "\n",
      "    1551       1151  132 2          1155555111   0     115555551\n",
      "\n",
      "    1551        151 0  322         115555111  121      155555551\n",
      "\n",
      "    1551        1221   2           1555551   131      1155555551\n",
      "\n",
      "    1551         2  0  1          115555511   1       1155555551\n",
      "\n",
      "    1551         2   0      0    1155555551  0       1 155555551\n",
      "\n",
      "    1551         2              11555555551          21155555551\n",
      "\n",
      "    1551         1  0          115555555551          15555555551\n",
      "\n",
      "    1551          1           11511115555521  1     115555555551\n",
      "\n",
      "    1551        1 1          11111  1155511   2     155555555551\n",
      "\n",
      "    1551       131           111     15111    2     155555555551\n",
      "\n",
      "    1551      121 0        1121   1  111  1   2    1155555555551\n",
      "\n",
      "    1551      11           111 1  221 11  1   2    1555555555551\n",
      "\n",
      "    1551    12  0    1     21 121  11 1111    2    1555555555551\n",
      "\n",
      "    1551     1      12    22  151111111551    2   11555555555551\n",
      "\n",
      "    1551   1              2   1555551115511   1   15555555555551\n",
      "\n",
      "    1551   2    0     0  22  12555551 15551    1  15555555555551\n",
      "\n",
      "    1551   1             1    1555511 11511    2 115555555555551\n",
      "\n",
      "    1551      0 0      21     155551 1 151     2 155555555555551\n",
      "\n",
      "    1551               2      15555112 151     2 155555555555551\n",
      "\n",
      "    1551         1   1 1     1155555511111     2 155555555555551\n",
      "\n",
      "    1551         2  22       111511111212      21155555555555551\n",
      "\n",
      "    1551  0      1 12          151    2 1      15555555111555551\n",
      "\n",
      "    1551       0  0  0         1111  121       155555551 1555551\n",
      "\n",
      "    1551            0           11111111       155555551 1555551\n",
      "\n",
      "    1551        0                115551        155555551 1555511\n",
      "\n",
      "    1551                          15551        211111111 155511 \n",
      "\n",
      "    11521      1   12          122155511       2     11 115511  \n",
      "\n",
      "1    151 0     1    1            155555111     2111     15511   \n",
      "\n",
      "22   1511          1             15555555111   155111   1511    \n",
      "\n",
      " 22  1511          1             15555555551   155551  1151     \n",
      "\n",
      "  2  151            0 1        11155555555511  155511  1511     \n",
      "\n",
      "  2  1521    0        1        155555555555511 15551 12151      \n",
      "\n",
      "  2  151           121         155555555555551 155511 1551      \n",
      "\n",
      "  2  1511                   0  155555555555551 115551 1511      \n",
      "\n",
      "  21 1511            11        155555555555551  111111151       \n",
      "\n",
      "  11 151          0           11555555555555511    111511       \n",
      "\n",
      "  11 151                      15555555555555551      151        \n",
      "\n",
      "  11 151            0        115555555555555551      211        \n",
      "\n",
      "  11 151                     1155555555555555511     1          \n",
      "\n",
      "  11 151                    0 155555555555555551                \n",
      "\n",
      "  11 111        0            1211111111111111111                \n",
      "\n"
     ]
    }
   ],
   "source": [
    "for i in range(yokoi_number.shape[0]):\n",
    "    for j in range(yokoi_number.shape[1]):\n",
    "        print(yokoi_number[i,j],end='')\n",
    "    print(\"\\n\")"
   ]
  },
  {
   "cell_type": "code",
   "execution_count": 13,
   "metadata": {},
   "outputs": [],
   "source": [
    "np.savetxt('yokoi_number.txt', \n",
    "        yokoi_number, \n",
    "        delimiter='', fmt='%s')"
   ]
  },
  {
   "cell_type": "code",
   "execution_count": null,
   "metadata": {},
   "outputs": [],
   "source": []
  }
 ],
 "metadata": {
  "kernelspec": {
   "display_name": "Python 3",
   "language": "python",
   "name": "python3"
  },
  "language_info": {
   "codemirror_mode": {
    "name": "ipython",
    "version": 3
   },
   "file_extension": ".py",
   "mimetype": "text/x-python",
   "name": "python",
   "nbconvert_exporter": "python",
   "pygments_lexer": "ipython3",
   "version": "3.6.5"
  }
 },
 "nbformat": 4,
 "nbformat_minor": 2
}
