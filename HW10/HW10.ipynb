{
 "cells": [
  {
   "cell_type": "code",
   "execution_count": 1,
   "metadata": {},
   "outputs": [],
   "source": [
    "import cv2\n",
    "import copy\n",
    "from matplotlib import pyplot as plt\n",
    "import numpy as np\n",
    "import math\n",
    "\n",
    "img = cv2.imread('lena.bmp')"
   ]
  },
  {
   "cell_type": "markdown",
   "metadata": {},
   "source": [
    "### 1. Laplace Mask\n",
    "- 1 (0, 1, 0, 1, -4, 1, 0, 1, 0): 15\n",
    "- 2 (1, 1, 1, 1, -8, 1, 1, 1, 1)"
   ]
  },
  {
   "cell_type": "code",
   "execution_count": 46,
   "metadata": {},
   "outputs": [],
   "source": [
    "def laplace(src_img, threshold, mask):\n",
    "    pos=[[-1,-1],[-1,0],[-1,1],[0,-1],[0,0],[0,1],[1,-1],[1,0],[1,1]]\n",
    "    mask1=[0,1,0,1,-4,1,0,1,0]\n",
    "    mask2=[1,1,1,1,-8,1,1,1,1]\n",
    "    out=copy.copy(src_img)\n",
    "    for i in range(src_img.shape[0]):\n",
    "        for j in range(src_img.shape[1]):\n",
    "            mag=0\n",
    "            for k in range(len(pos)):\n",
    "                if (i+pos[k][0]<src_img.shape[0]) and (j+pos[k][1]<src_img.shape[1]):\n",
    "                    if mask==1:\n",
    "                        mag+=mask1[k]*src_img[i+pos[k][0],j+pos[k][1],1]\n",
    "                    elif mask==2:\n",
    "                        mag+=mask2[k]*src_img[i+pos[k][0],j+pos[k][1],1]\n",
    "                        mag/=3\n",
    "            if mag>=threshold:\n",
    "                out[i,j]=1\n",
    "            elif mag<= -threshold:\n",
    "                out[i,j]=-1\n",
    "            else:\n",
    "                out[i,j]=0\n",
    "    return out"
   ]
  },
  {
   "cell_type": "code",
   "execution_count": 51,
   "metadata": {},
   "outputs": [],
   "source": [
    "def zerocross(src_img):\n",
    "    pos=[[-1,-1],[-1,0],[-1,1],[0,-1],[0,1],[1,-1],[1,0],[1,1]]\n",
    "    out=np.zeros((512,512,3))\n",
    "    for i in range(src_img.shape[0]):\n",
    "        for j in range(src_img.shape[1]):\n",
    "            if src_img[i,j,1]==0:\n",
    "                out[i,j]=255\n",
    "            elif src_img[i,j,1]==1:               \n",
    "                for k in range(len(pos)):\n",
    "                    if (i+pos[k][0]<src_img.shape[0]) and (j+pos[k][1]<src_img.shape[1]) and (src_img[i+pos[k][0],j+pos[k][1],1]==-1):\n",
    "                        out[i,j]=0\n",
    "                        break\n",
    "            elif src_img[i,j,1]==-1:               \n",
    "                for k in range(len(pos)):\n",
    "                    if (i+pos[k][0]<src_img.shape[0]) and (j+pos[k][1]<src_img.shape[1]) and (src_img[i+pos[k][0],j+pos[k][1],1]==1):\n",
    "                        out[i,j]=0\n",
    "                        break\n",
    "    return out"
   ]
  },
  {
   "cell_type": "code",
   "execution_count": 61,
   "metadata": {},
   "outputs": [],
   "source": [
    "lap1=laplace(img,15,1)\n",
    "lap1=zerocross(lap1)\n",
    "#lap2=laplace(img,15,2)\n",
    "#lap2=zerocross(lap2)"
   ]
  },
  {
   "cell_type": "code",
   "execution_count": 62,
   "metadata": {},
   "outputs": [
    {
     "name": "stderr",
     "output_type": "stream",
     "text": [
      "Clipping input data to the valid range for imshow with RGB data ([0..1] for floats or [0..255] for integers).\n"
     ]
    },
    {
     "data": {
      "text/plain": [
       "<matplotlib.image.AxesImage at 0x2c7dbea1b00>"
      ]
     },
     "execution_count": 62,
     "metadata": {},
     "output_type": "execute_result"
    },
    {
     "data": {
      "image/png": "[encoded data removed]",
      "text/plain": [
       "<Figure size 432x288 with 1 Axes>"
      ]
     },
     "metadata": {},
     "output_type": "display_data"
    }
   ],
   "source": [
    "%matplotlib inline\n",
    "plt.imshow(lap1)"
   ]
  },
  {
   "cell_type": "code",
   "execution_count": null,
   "metadata": {},
   "outputs": [],
   "source": []
  }
 ],
 "metadata": {
  "kernelspec": {
   "display_name": "Python 3",
   "language": "python",
   "name": "python3"
  },
  "language_info": {
   "codemirror_mode": {
    "name": "ipython",
    "version": 3
   },
   "file_extension": ".py",
   "mimetype": "text/x-python",
   "name": "python",
   "nbconvert_exporter": "python",
   "pygments_lexer": "ipython3",
   "version": "3.6.5"
  }
 },
 "nbformat": 4,
 "nbformat_minor": 2
}
