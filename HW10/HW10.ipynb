{
 "cells": [
  {
   "cell_type": "code",
   "execution_count": 1,
   "metadata": {},
   "outputs": [],
   "source": [
    "import cv2\n",
    "import copy\n",
    "from matplotlib import pyplot as plt\n",
    "import numpy as np\n",
    "import math\n",
    "\n",
    "img = cv2.imread('lena.bmp')"
   ]
  },
  {
   "cell_type": "markdown",
   "metadata": {},
   "source": [
    "### 1. Laplace Mask\n",
    "- 1 (0, 1, 0, 1, -4, 1, 0, 1, 0): 15\n",
    "- 2 (1, 1, 1, 1, -8, 1, 1, 1, 1)"
   ]
  },
  {
   "cell_type": "code",
   "execution_count": 2,
   "metadata": {},
   "outputs": [],
   "source": [
    "def laplace(src_img, mask):\n",
    "    pos=[[-1,-1],[-1,0],[-1,1],[0,-1],[0,0],[0,1],[1,-1],[1,0],[1,1]]\n",
    "    mask1=[0,1,0,1,-4,1,0,1,0]\n",
    "    mask2=[1,1,1,1,-8,1,1,1,1]\n",
    "    out=np.zeros((512,512,3))\n",
    "    for i in range(src_img.shape[0]):\n",
    "        for j in range(src_img.shape[1]):\n",
    "            mag=0\n",
    "            for k in range(len(pos)):\n",
    "                if (i+pos[k][0]<src_img.shape[0]) and (j+pos[k][1]<src_img.shape[1]):\n",
    "                    if mask==1:\n",
    "                        mag+=mask1[k]*src_img[i+pos[k][0],j+pos[k][1],1]\n",
    "                    elif mask==2:\n",
    "                        mag+=mask2[k]*src_img[i+pos[k][0],j+pos[k][1],1]/3\n",
    "            out[i,j]=mag\n",
    "    return out"
   ]
  },
  {
   "cell_type": "code",
   "execution_count": 16,
   "metadata": {},
   "outputs": [],
   "source": [
    "def zerocross_update(src_img, threshold):\n",
    "    pos=[[-1,-1],[-1,0],[-1,1],[0,-1],[0,1],[1,-1],[1,0],[1,1]]\n",
    "    out=np.zeros((512,512,3))\n",
    "    for i in range(src_img.shape[0]):\n",
    "        for j in range(src_img.shape[1]):\n",
    "            if src_img[i,j,1]<threshold:\n",
    "                out[i,j]=1\n",
    "                \"\"\"\n",
    "                for k in range(len(pos)):\n",
    "                    if (i+pos[k][0]<src_img.shape[0]) and (j+pos[k][1]<src_img.shape[1]) and (src_img[i+pos[k][0],j+pos[k][1],1]==-1):\n",
    "                        out[i,j]=0\n",
    "                        break\n",
    "                        \n",
    "            elif src_img[i,j,1]==-1:\n",
    "                #out[i,j]=0\n",
    "                for k in range(len(pos)):\n",
    "                    if (i+pos[k][0]<src_img.shape[0]) and (j+pos[k][1]<src_img.shape[1]) and (src_img[i+pos[k][0],j+pos[k][1],1]==1):\n",
    "                        out[i,j]=0\n",
    "                        break\n",
    "            \"\"\"\n",
    "    return out"
   ]
  },
  {
   "cell_type": "code",
   "execution_count": 6,
   "metadata": {},
   "outputs": [],
   "source": [
    "lap1=laplace(img,1)\n",
    "#lap1z=zerocross_update(lap1,15)\n",
    "#lap1=zerocross_update(lap1)\n",
    "#lap2=laplace(img,15,2)\n",
    "#lap2=zerocross(lap2)"
   ]
  },
  {
   "cell_type": "code",
   "execution_count": 7,
   "metadata": {
    "scrolled": false
   },
   "outputs": [
    {
     "data": {
      "text/plain": [
       "True"
      ]
     },
     "execution_count": 7,
     "metadata": {},
     "output_type": "execute_result"
    }
   ],
   "source": [
    "cv2.imwrite('laplace1.bmp',(lap1 < int(15)) * 255)"
   ]
  },
  {
   "cell_type": "code",
   "execution_count": 8,
   "metadata": {},
   "outputs": [],
   "source": [
    "lap2=laplace(img,2)\n",
    "#lap2z=zerocross_update(lap2,15)"
   ]
  },
  {
   "cell_type": "code",
   "execution_count": 9,
   "metadata": {},
   "outputs": [
    {
     "data": {
      "text/plain": [
       "True"
      ]
     },
     "execution_count": 9,
     "metadata": {},
     "output_type": "execute_result"
    }
   ],
   "source": [
    "cv2.imwrite('laplace2.bmp',(lap2 < int(15)) * 255)"
   ]
  },
  {
   "cell_type": "markdown",
   "metadata": {},
   "source": [
    "### 2. Minimum variance Laplacian: 20"
   ]
  },
  {
   "cell_type": "code",
   "execution_count": 17,
   "metadata": {},
   "outputs": [],
   "source": [
    "def min_laplace(src_img):\n",
    "    pos=[[-1,-1],[-1,0],[-1,1],[0,-1],[0,0],[0,1],[1,-1],[1,0],[1,1]]\n",
    "    mask=[2,-1,2,-1,-4,-1,2,-1,2]\n",
    "    out=np.zeros((512,512,3))\n",
    "    for i in range(src_img.shape[0]):\n",
    "        for j in range(src_img.shape[1]):\n",
    "            mag=0\n",
    "            for k in range(len(pos)):\n",
    "                if (i+pos[k][0]<src_img.shape[0]) and (j+pos[k][1]<src_img.shape[1]):\n",
    "                    mag+=mask[k]*src_img[i+pos[k][0],j+pos[k][1],1]/3\n",
    "            out[i,j]=mag\n",
    "    return out"
   ]
  },
  {
   "cell_type": "code",
   "execution_count": 18,
   "metadata": {},
   "outputs": [],
   "source": [
    "min_lap=min_laplace(img)"
   ]
  },
  {
   "cell_type": "code",
   "execution_count": 19,
   "metadata": {},
   "outputs": [
    {
     "data": {
      "text/plain": [
       "True"
      ]
     },
     "execution_count": 19,
     "metadata": {},
     "output_type": "execute_result"
    }
   ],
   "source": [
    "cv2.imwrite('min_laplace.bmp',(min_lap < int(20)) * 255)"
   ]
  },
  {
   "cell_type": "markdown",
   "metadata": {},
   "source": [
    "### 3. Laplace of Gaussian: 3000"
   ]
  },
  {
   "cell_type": "code",
   "execution_count": 20,
   "metadata": {},
   "outputs": [],
   "source": [
    "img = cv2.imread('lena.bmp',0)"
   ]
  },
  {
   "cell_type": "code",
   "execution_count": 21,
   "metadata": {},
   "outputs": [],
   "source": [
    "def convolve(A, B):\n",
    "    assert A.shape == B.shape\n",
    "    value = 0\n",
    "    for i in range(A.shape[0]):\n",
    "        for j in range(A.shape[1]):\n",
    "            value += (A[i, j] * B[B.shape[0] - i - 1, B.shape[1] - j - 1])\n",
    "    return value"
   ]
  },
  {
   "cell_type": "code",
   "execution_count": 22,
   "metadata": {},
   "outputs": [],
   "source": [
    "def convolve_img(img, kernel):\n",
    "    img_new = np.zeros((img.shape[0] - kernel.shape[0] + 1, img.shape[1] - kernel.shape[1] + 1))\n",
    "    for i in range(img_new.shape[0]):\n",
    "        for j in range(img_new.shape[1]):\n",
    "            img_new[i, j] = convolve(img[i:i+kernel.shape[0], j:j+kernel.shape[1]], kernel)\n",
    "    return img_new"
   ]
  },
  {
   "cell_type": "code",
   "execution_count": 23,
   "metadata": {},
   "outputs": [
    {
     "data": {
      "text/plain": [
       "True"
      ]
     },
     "execution_count": 23,
     "metadata": {},
     "output_type": "execute_result"
    }
   ],
   "source": [
    "k = np.array([\n",
    "            [0, 0, 0, -1, -1, -2, -1, -1, 0, 0, 0],\n",
    "            [0, 0, -2, -4, -8, -9, -8, -4, -2, 0, 0],\n",
    "            [0, -2, -7, -15, -22, -23, -22, -15, -7, -2, 0],\n",
    "            [-1, -4, -15, -24, -14, -1, -14, -24, -15, -4, -1],\n",
    "            [-1, -8, -22, -14, 52, 103, 52, -14, -22, -8, -1],\n",
    "            [-2, -9, -23, -1, 103, 178, 103, -1, -23, -9, -2],\n",
    "            [-1, -8, -22, -14, 52, 103, 52, -14, -22, -8, -1],\n",
    "            [-1, -4, -15, -24, -14, -1, -14, -24, -15, -4, -1],\n",
    "            [0, -2, -7, -15, -22, -23, -22, -15, -7, -2, 0],\n",
    "            [0, 0, -2, -4, -8, -9, -8, -4, -2, 0, 0],\n",
    "            [0, 0, 0, -1, -1, -2, -1, -1, 0, 0, 0]\n",
    "        ])\n",
    "img_ans = convolve_img(img, k)\n",
    "cv2.imwrite('lapofGau.bmp', (img_ans < int(3000)) * 255)"
   ]
  },
  {
   "cell_type": "markdown",
   "metadata": {},
   "source": [
    "### 4. Difference of Gaussian: 1"
   ]
  },
  {
   "cell_type": "code",
   "execution_count": 25,
   "metadata": {},
   "outputs": [
    {
     "data": {
      "text/plain": [
       "True"
      ]
     },
     "execution_count": 25,
     "metadata": {},
     "output_type": "execute_result"
    }
   ],
   "source": [
    "k = np.array([\n",
    "            [-1, -3, -4, -6, -7, -8, -7, -6, -4, -3, -1],\n",
    "            [-3, -5, -8, -11, -13, -13, -13, -11, -8, -5, -3],\n",
    "            [-4, -8, -12, -16, -17, -17, -17, -16, -12, -8, -4],\n",
    "            [-6, -11, -16, -16, 0, 15, 0, -16, -16, -11, -6],\n",
    "            [-7, -13, -17, 0, 85, 160, 85, 0, -17, -13, -7],\n",
    "            [-8, -13, -17, 15, 160, 283, 160, 15, -17, -13, -8],\n",
    "            [-7, -13, -17, 0, 85, 160, 85, 0, -17, -13, -7],\n",
    "            [-6, -11, -16, -16, 0, 15, 0, -16, -16, -11, -6],\n",
    "            [-4, -8, -12, -16, -17, -17, -17, -16, -12, -8, -4],\n",
    "            [-3, -5, -8, -11, -13, -13, -13, -11, -8, -5, -3],\n",
    "            [-1, -3, -4, -6, -7, -8, -7, -6, -4, -3, -1],\n",
    "        ])\n",
    "img_ans = convolve_img(img, k)\n",
    "cv2.imwrite('diffofGau.bmp', (img_ans >= int(1)) * 255)"
   ]
  },
  {
   "cell_type": "code",
   "execution_count": null,
   "metadata": {},
   "outputs": [],
   "source": []
  }
 ],
 "metadata": {
  "kernelspec": {
   "display_name": "Python 3",
   "language": "python",
   "name": "python3"
  },
  "language_info": {
   "codemirror_mode": {
    "name": "ipython",
    "version": 3
   },
   "file_extension": ".py",
   "mimetype": "text/x-python",
   "name": "python",
   "nbconvert_exporter": "python",
   "pygments_lexer": "ipython3",
   "version": "3.6.5"
  }
 },
 "nbformat": 4,
 "nbformat_minor": 2
}
