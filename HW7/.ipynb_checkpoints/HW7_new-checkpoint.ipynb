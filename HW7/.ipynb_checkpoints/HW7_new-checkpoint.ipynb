{
 "cells": [
  {
   "cell_type": "code",
   "execution_count": 1,
   "metadata": {},
   "outputs": [],
   "source": [
    "import cv2\n",
    "import copy\n",
    "from matplotlib import pyplot as plt\n",
    "import numpy as np\n",
    "\n",
    "img = cv2.imread('lena.bmp')\n",
    "\n",
    "binary = img.copy()"
   ]
  },
  {
   "cell_type": "markdown",
   "metadata": {},
   "source": [
    "#### Convert Lena to binary image"
   ]
  },
  {
   "cell_type": "code",
   "execution_count": 2,
   "metadata": {},
   "outputs": [],
   "source": [
    "for i in range(binary.shape[0]):\n",
    "    for j in range(binary.shape[1]):\n",
    "        if binary[i,j,1]>=128:\n",
    "            binary[i,j]=255\n",
    "        else:\n",
    "            binary[i,j]=0"
   ]
  },
  {
   "cell_type": "markdown",
   "metadata": {},
   "source": [
    "#### Downsampling from 512x512 to 64x64"
   ]
  },
  {
   "cell_type": "code",
   "execution_count": 10,
   "metadata": {},
   "outputs": [],
   "source": [
    "downsample=np.zeros((64, 64, 3))\n",
    "\n",
    "for i in range(downsample.shape[0]):\n",
    "    for j in range(downsample.shape[1]):\n",
    "        downsample[i,j]=binary[i*8, j*8, 1]\n",
    "        \n",
    "downsample=downsample.astype(int)"
   ]
  },
  {
   "cell_type": "markdown",
   "metadata": {},
   "source": [
    "#### Step1. Yokoi number"
   ]
  },
  {
   "cell_type": "code",
   "execution_count": 4,
   "metadata": {},
   "outputs": [],
   "source": [
    "def h(b,c,d,e):\n",
    "    if (b==c) and ((d!=b) or (e!=b)):\n",
    "        return 'q'\n",
    "    if (b==c) and (d==b) and (e==b):\n",
    "        return 'r'\n",
    "    if (b!=c):\n",
    "        return 's'"
   ]
  },
  {
   "cell_type": "code",
   "execution_count": 5,
   "metadata": {},
   "outputs": [],
   "source": [
    "def f(a1, a2, a3, a4):\n",
    "    if ([a1,a2,a3,a4].count('r')==4):\n",
    "        return 5\n",
    "    else:\n",
    "        return [a1,a2,a3,a4].count('q')"
   ]
  },
  {
   "cell_type": "code",
   "execution_count": 22,
   "metadata": {},
   "outputs": [],
   "source": [
    "def x(src_img,row,col):\n",
    "    pos=[[0,0],[0,1],[-1,0],[0,-1],[1,0],[1,1],[-1,1],[-1,-1],[1,-1]]\n",
    "    x_var=[]\n",
    "    for i in range(9):\n",
    "        if (0<=row+pos[i][0]<=63) and (0<=col+pos[i][1]<=63) and (src_img[row+pos[i][0], col+pos[i][1], 1]==255):\n",
    "            x_var.append(1)\n",
    "        else:\n",
    "            x_var.append(0)\n",
    "    return x_var"
   ]
  },
  {
   "cell_type": "code",
   "execution_count": 24,
   "metadata": {},
   "outputs": [],
   "source": [
    "def Yokoi(src_img):\n",
    "    output=np.full((64, 64, 3),' ')\n",
    "    for i in range(src_img.shape[0]):\n",
    "        for j in range(src_img.shape[1]):\n",
    "            if src_img[i,j,1]==255:\n",
    "                x_var=x(src_img,i,j)\n",
    "                a1=h(x_var[0],x_var[1],x_var[6],x_var[2])\n",
    "                a2=h(x_var[0],x_var[2],x_var[7],x_var[3])\n",
    "                a3=h(x_var[0],x_var[3],x_var[8],x_var[4])\n",
    "                a4=h(x_var[0],x_var[4],x_var[5],x_var[1])\n",
    "                output[i,j]=str(f(a1,a2,a3,a4))\n",
    "            else:\n",
    "                output[i,j]=' '\n",
    "    return output"
   ]
  },
  {
   "cell_type": "markdown",
   "metadata": {},
   "source": [
    "#### Step2. Pair relationship"
   ]
  },
  {
   "cell_type": "code",
   "execution_count": 28,
   "metadata": {},
   "outputs": [],
   "source": [
    "#use x function in HW6 and slightly modify! get 'i' or 'b' symbol from each position\n",
    "def x_pair(src_img,row,col):\n",
    "    pos=[[0,0],[0,1],[-1,0],[0,-1],[1,0]]\n",
    "    x_var=[]\n",
    "    for i in range(5):\n",
    "        if (0<=row+pos[i][0]<=63) and (0<=col+pos[i][1]<=63):\n",
    "            x_var.append(src_img[row+pos[i][0], col+pos[i][1],1])\n",
    "        else:\n",
    "            x_var.append('0')  #if the position is out of bound, assign 'b'\n",
    "    return x_var"
   ]
  },
  {
   "cell_type": "code",
   "execution_count": 26,
   "metadata": {},
   "outputs": [],
   "source": [
    "def pair(src_img):\n",
    "    output=copy.copy(src_img)\n",
    "    for i in range(src_img.shape[0]):\n",
    "        for j in range(src_img.shape[1]):\n",
    "            if src_img[i,j,1]=='1':\n",
    "                x_var=x_pair(src_img,i,j)\n",
    "                if x_var[1:].count('1')>=1:\n",
    "                    output[i,j]='p'\n",
    "    return output"
   ]
  },
  {
   "cell_type": "markdown",
   "metadata": {},
   "source": [
    "#### Step3. Connected Shrink Operation  -- 8-connectivity"
   ]
  },
  {
   "cell_type": "code",
   "execution_count": 14,
   "metadata": {},
   "outputs": [],
   "source": [
    "def h_shrink(b,c,d,e):\n",
    "    if (b==c) and ((b!=d) or (b!=e)):\n",
    "        return 1\n",
    "    else:\n",
    "        return 0"
   ]
  },
  {
   "cell_type": "code",
   "execution_count": 15,
   "metadata": {},
   "outputs": [],
   "source": [
    "def f_shrink(a1,a2,a3,a4,x0):\n",
    "    a_list=[a1,a2,a3,a4]\n",
    "    if a_list.count(1)==1:\n",
    "        return 'g'\n",
    "    else:\n",
    "        return x0"
   ]
  },
  {
   "cell_type": "code",
   "execution_count": 32,
   "metadata": {},
   "outputs": [],
   "source": [
    "#get the value of each position\n",
    "def x_shrink(src_img,row,col):\n",
    "    pos=[[0,0],[0,1],[-1,0],[0,-1],[1,0],[1,1],[-1,1],[-1,-1],[1,-1]]\n",
    "    x_var=[]\n",
    "    for i in range(9):\n",
    "        if (0<=row+pos[i][0]<=63) and (0<=col+pos[i][1]<=63) and (src_img[row+pos[i][0], col+pos[i][1], 1]==255):\n",
    "            x_var.append(1)\n",
    "        else:\n",
    "            x_var.append(0)\n",
    "    return x_var"
   ]
  },
  {
   "cell_type": "code",
   "execution_count": 40,
   "metadata": {},
   "outputs": [],
   "source": [
    "def con_shrink(src_img, pair_img):\n",
    "    for i in range(src_img.shape[0]):\n",
    "        for j in range(src_img.shape[1]):\n",
    "            if src_img[i,j,1]==255:\n",
    "                x_var=x_shrink(src_img,i,j)\n",
    "                a1=h_shrink(x_var[0],x_var[1],x_var[6],x_var[2])\n",
    "                a2=h_shrink(x_var[0],x_var[2],x_var[7],x_var[3])\n",
    "                a3=h_shrink(x_var[0],x_var[3],x_var[8],x_var[4])\n",
    "                a4=h_shrink(x_var[0],x_var[4],x_var[5],x_var[1])\n",
    "                #output[i,j]=f_shrink(a1,a2,a3,a4,x_var[0])\n",
    "                if f_shrink(a1,a2,a3,a4,x_var[0])=='g' and pair_img[i,j,1]=='p':\n",
    "                    src_img[i,j]=0\n",
    "                #else:\n",
    "                    #src_img[i,j]=x_var[0]\n",
    "    return src_img"
   ]
  },
  {
   "cell_type": "markdown",
   "metadata": {},
   "source": [
    "#### Step4. Repeat, until the last output never changed"
   ]
  },
  {
   "cell_type": "markdown",
   "metadata": {},
   "source": [
    "#### Step4.1 Check if two images are the same"
   ]
  },
  {
   "cell_type": "code",
   "execution_count": 41,
   "metadata": {},
   "outputs": [],
   "source": [
    "def issame(image1, image2):\n",
    "    if image1.shape == image2.shape and not(np.bitwise_xor(image1,image2).any()):\n",
    "        return True\n",
    "    else:\n",
    "        return False"
   ]
  },
  {
   "cell_type": "markdown",
   "metadata": {},
   "source": [
    "#### Step4.2. "
   ]
  },
  {
   "cell_type": "code",
   "execution_count": 42,
   "metadata": {},
   "outputs": [],
   "source": [
    "image_thin=copy.deepcopy(downsample)\n",
    "\n",
    "while True:\n",
    "    #image_last: used to check if last output never changed\n",
    "    image_last=copy.deepcopy(image_thin)\n",
    "\n",
    "    #image_yokoi\n",
    "    image_yokoi=Yokoi(image_thin)\n",
    "\n",
    "    #image_mark: mark image by pair relationship operator\n",
    "    image_mark=pair(image_yokoi)\n",
    "\n",
    "    image_thin=con_shrink(image_thin, image_mark)\n",
    "\n",
    "    if issame(image_thin,image_last) is True:\n",
    "        break"
   ]
  },
  {
   "cell_type": "code",
   "execution_count": 43,
   "metadata": {},
   "outputs": [
    {
     "data": {
      "text/plain": [
       "<matplotlib.image.AxesImage at 0x19e0bd843c8>"
      ]
     },
     "execution_count": 43,
     "metadata": {},
     "output_type": "execute_result"
    },
    {
     "data": {
      "image/png": "[encoded data removed]",
      "text/plain": [
       "<Figure size 432x288 with 1 Axes>"
      ]
     },
     "metadata": {},
     "output_type": "display_data"
    }
   ],
   "source": [
    "%matplotlib inline\n",
    "plt.imshow(image_thin)"
   ]
  },
  {
   "cell_type": "code",
   "execution_count": null,
   "metadata": {},
   "outputs": [],
   "source": []
  }
 ],
 "metadata": {
  "kernelspec": {
   "display_name": "Python 3",
   "language": "python",
   "name": "python3"
  },
  "language_info": {
   "codemirror_mode": {
    "name": "ipython",
    "version": 3
   },
   "file_extension": ".py",
   "mimetype": "text/x-python",
   "name": "python",
   "nbconvert_exporter": "python",
   "pygments_lexer": "ipython3",
   "version": "3.6.5"
  }
 },
 "nbformat": 4,
 "nbformat_minor": 2
}
