{
 "cells": [
  {
   "cell_type": "code",
   "execution_count": 1,
   "metadata": {},
   "outputs": [],
   "source": [
    "import cv2\n",
    "import copy\n",
    "from matplotlib import pyplot as plt\n",
    "import numpy as np\n",
    "\n",
    "img = cv2.imread('lena.bmp')\n",
    "\n",
    "binary = img.copy()"
   ]
  },
  {
   "cell_type": "markdown",
   "metadata": {},
   "source": [
    "#### Convert Lena to binary image"
   ]
  },
  {
   "cell_type": "code",
   "execution_count": 2,
   "metadata": {},
   "outputs": [],
   "source": [
    "for i in range(binary.shape[0]):\n",
    "    for j in range(binary.shape[1]):\n",
    "        if binary[i,j,1]>=128:\n",
    "            binary[i,j]=255\n",
    "        else:\n",
    "            binary[i,j]=0"
   ]
  },
  {
   "cell_type": "markdown",
   "metadata": {},
   "source": [
    "#### Downsampling from 512x512 to 64x64"
   ]
  },
  {
   "cell_type": "code",
   "execution_count": 3,
   "metadata": {},
   "outputs": [],
   "source": [
    "downsample=np.zeros((64, 64))\n",
    "\n",
    "for i in range(downsample.shape[0]):\n",
    "    for j in range(downsample.shape[1]):\n",
    "        downsample[i,j]=binary[i*8, j*8, 1]\n",
    "        \n",
    "downsample=downsample.astype(int)"
   ]
  },
  {
   "cell_type": "markdown",
   "metadata": {},
   "source": [
    "#### Step1. Mark Interior / Border pixel"
   ]
  },
  {
   "cell_type": "code",
   "execution_count": 4,
   "metadata": {},
   "outputs": [],
   "source": [
    "#use x function in HW6 directly! if x0==x1==x2...==x8==1 => x0: interior, 8-connectivity\n",
    "def x_interior(src_img,row,col):\n",
    "    pos=[[0,0],[0,1],[-1,0],[0,-1],[1,0],[1,1],[-1,1],[-1,-1],[1,-1]]\n",
    "    x_var=[]\n",
    "    for i in range(9):\n",
    "        if (0<=row+pos[i][0]<=63) and (0<=col+pos[i][1]<=63) and (src_img[row+pos[i][0], col+pos[i][1]]==255):\n",
    "            x_var.append(1)\n",
    "        else:\n",
    "            x_var.append(0)\n",
    "    return x_var"
   ]
  },
  {
   "cell_type": "code",
   "execution_count": 5,
   "metadata": {},
   "outputs": [],
   "source": [
    "def interior(src_img, output):\n",
    "    for i in range(src_img.shape[0]):\n",
    "        for j in range(src_img.shape[1]):\n",
    "            if src_img[i,j]==255:\n",
    "                x_var=x_interior(src_img,i,j)\n",
    "                if (x_var.count(1)==9):\n",
    "                    output[i,j]='i'\n",
    "                else:\n",
    "                    output[i,j]='b'\n",
    "            else:\n",
    "                output[i,j]=' '\n",
    "    return output"
   ]
  },
  {
   "cell_type": "code",
   "execution_count": 6,
   "metadata": {},
   "outputs": [],
   "source": [
    "interior_img=np.full((64, 64),' ')\n",
    "interior_img=interior(downsample,interior_img)"
   ]
  },
  {
   "cell_type": "code",
   "execution_count": 7,
   "metadata": {},
   "outputs": [
    {
     "name": "stdout",
     "output_type": "stream",
     "text": [
      "bbbbbbbb        bbbbbbbbbbbbbbbbbbbb     bbbbbbbbbbbb       b  b\n",
      "\n",
      "biiiiiib         bbiiiiiiiibb b bb  bb   bbiiiiiiiiibb        b \n",
      "\n",
      "biiiiiib        b bbbiiiibbb  bbbbbbbb    biiiiiiiiiib      bb  \n",
      "\n",
      "biiiiiib        b b biibbb bbbbbibb       biiiiiiiiiibb     b   \n",
      "\n",
      "biiiiiib         bb bbbb bb    bbb b b    biiiiiiiiiiibb   b    \n",
      "\n",
      "biiiiiib         b  b  bb b     b   b     biiiiiiiiiiiib  b     \n",
      "\n",
      "biiiiiib           bb b  bbbbbb    bbbb   biiiiiiiiiiiibb       \n",
      "\n",
      "bibbbiib           bbbb bbiiiibbbb        biiiiiiiiiiiiib       \n",
      "\n",
      "bbb biib            b  bbbiiiiiiibb       biiiiiiiiiiiibb       \n",
      "\n",
      "bb  biib                 bbbiiiiiibb      biibbbiiiiiibb        \n",
      "\n",
      "bb  biib                 b biiiiiiibbb    biib bbiiiibb         \n",
      "\n",
      "b   biib                 b biiiiiiiiibb   biib  bbiiib         b\n",
      "\n",
      "    biib               bbbbbiiiiiiiiiib   biib   biibb        bb\n",
      "\n",
      "    biib               biiiiiiiiiiiiiibb  biib   bbbb        bbb\n",
      "\n",
      "    biib        b     bbbbbiiiiiiiiiiiibb bbib    bb        bbib\n",
      "\n",
      "    biib        b    bb b biiiiiiiiiiiiibb bib  bbbbb       biib\n",
      "\n",
      "    biib        b    b   bbiiiiiiiiiiiiiib bib bbiiib      bbiib\n",
      "\n",
      "    biib        b       bbiiiiiiiiiiiiiiibbbibbbiiibb     bbiiib\n",
      "\n",
      "    biib       bb      bbiiiiiiiiiiiiiiiiiiiiiiiiiib      biiiib\n",
      "\n",
      "    biib       bb   b bbbiiiiiiiiiiiiiiiiiiiiiiiibbb     bbiiiib\n",
      "\n",
      "    biib       bbb   bb biiiiiiiiiiiiiiiiiiiiiiiib b     biiiiib\n",
      "\n",
      "    biib       bibb  b bbibbbbbbbbbbbbiiiiiiiiibbb      bbiiiiib\n",
      "\n",
      "    biib       biibb  b bbb b bb  b  biiiiiiibbb  b     biiiiiib\n",
      "\n",
      "    biib       bbib  bbb b          bbiiiiibbb   b     bbiiiiiib\n",
      "\n",
      "    biib        bib b  bbb         bbiiiibbb  bbb      biiiiiiib\n",
      "\n",
      "    biib        bbbb   b           biiiiib   bbb      bbiiiiiiib\n",
      "\n",
      "    biib         b  b  b          bbiiiiibb   b       bbiiiiiiib\n",
      "\n",
      "    biib         b   b      b    bbiiiiiiib  b       b biiiiiiib\n",
      "\n",
      "    biib         b              bbiiiiiiiib          bbbiiiiiiib\n",
      "\n",
      "    biib         b  b          bbiiiiiiiiib          biiiiiiiiib\n",
      "\n",
      "    biib          b           bbibbbbiiiiibb  b     bbiiiiiiiiib\n",
      "\n",
      "    biib        b b          bbbbb  bbiiibb   b     biiiiiiiiiib\n",
      "\n",
      "    biib       bbb           bbb     bibbb    b     biiiiiiiiiib\n",
      "\n",
      "    biib      bbb b        bbbb   b  bbb  b   b    bbiiiiiiiiiib\n",
      "\n",
      "    biib      bb           bbb b  bbb bb  b   b    biiiiiiiiiiib\n",
      "\n",
      "    biib    bb  b    b     bb bbb  bb bbbb    b    biiiiiiiiiiib\n",
      "\n",
      "    biib     b      bb    bb  bibbbbbbbiib    b   bbiiiiiiiiiiib\n",
      "\n",
      "    biib   b              b   biiiiibbbiibb   b   biiiiiiiiiiiib\n",
      "\n",
      "    biib   b    b     b  bb  bbiiiiib biiib    b  biiiiiiiiiiiib\n",
      "\n",
      "    biib   b             b    biiiibb bbibb    b bbiiiiiiiiiiiib\n",
      "\n",
      "    biib      b b      bb     biiiib b bib     b biiiiiiiiiiiiib\n",
      "\n",
      "    biib               b      biiiibbb bib     b biiiiiiiiiiiiib\n",
      "\n",
      "    biib         b   b b     bbiiiiiibbbbb     b biiiiiiiiiiiiib\n",
      "\n",
      "    biib         b  bb       bbbibbbbbbbb      bbbiiiiiiiiiiiiib\n",
      "\n",
      "    biib  b      b bb          bib    b b      biiiiiiibbbiiiiib\n",
      "\n",
      "    biib       b  b  b         bbbb  bbb       biiiiiiib biiiiib\n",
      "\n",
      "    biib            b           bbbbbbbb       biiiiiiib biiiiib\n",
      "\n",
      "    biib        b                bbiiib        biiiiiiib biiiibb\n",
      "\n",
      "    biib                          biiib        bbbbbbbbb biiibb \n",
      "\n",
      "    bbibb      b   bb          bbbbiiibb       b     bb bbiibb  \n",
      "\n",
      "b    bib b     b    b            biiiiibbb     bbbb     biibb   \n",
      "\n",
      "bb   bibb          b             biiiiiiibbb   biibbb   bibb    \n",
      "\n",
      " bb  bibb          b             biiiiiiiiib   biiiib  bbib     \n",
      "\n",
      "  b  bib            b b        bbbiiiiiiiiibb  biiibb  bibb     \n",
      "\n",
      "  b  bibb    b        b        biiiiiiiiiiiibb biiib bbbib      \n",
      "\n",
      "  b  bib           bbb         biiiiiiiiiiiiib biiibb biib      \n",
      "\n",
      "  b  bibb                   b  biiiiiiiiiiiiib bbiiib bibb      \n",
      "\n",
      "  bb bibb            bb        biiiiiiiiiiiiib  bbbbbbbib       \n",
      "\n",
      "  bb bib          b           bbiiiiiiiiiiiiibb    bbbibb       \n",
      "\n",
      "  bb bib                      biiiiiiiiiiiiiiib      bib        \n",
      "\n",
      "  bb bib            b        bbiiiiiiiiiiiiiiib      bbb        \n",
      "\n",
      "  bb bib                     bbiiiiiiiiiiiiiiibb     b          \n",
      "\n",
      "  bb bib                    b biiiiiiiiiiiiiiiib                \n",
      "\n",
      "  bb bbb        b            bbbbbbbbbbbbbbbbbbb                \n",
      "\n"
     ]
    }
   ],
   "source": [
    "for i in range(interior_img.shape[0]):\n",
    "    for j in range(interior_img.shape[1]):\n",
    "        print(interior_img[i,j],end='')\n",
    "    print(\"\\n\")"
   ]
  },
  {
   "cell_type": "markdown",
   "metadata": {},
   "source": [
    "#### Step2. Pair relationship"
   ]
  },
  {
   "cell_type": "code",
   "execution_count": 8,
   "metadata": {},
   "outputs": [],
   "source": [
    "#use x function in HW6 and slightly modify! get 'i' or 'b' symbol from each position\n",
    "def x_pair(src_img,row,col):\n",
    "    pos=[[0,0],[0,1],[-1,0],[0,-1],[1,0],[1,1],[-1,1],[-1,-1],[1,-1]]\n",
    "    x_var=[]\n",
    "    for i in range(9):\n",
    "        if (0<=row+pos[i][0]<=63) and (0<=col+pos[i][1]<=63):\n",
    "            x_var.append(src_img[row+pos[i][0], col+pos[i][1]])\n",
    "        else:\n",
    "            x_var.append('b')  #if the position is out of bound, assign 'b'\n",
    "    return x_var"
   ]
  },
  {
   "cell_type": "code",
   "execution_count": 9,
   "metadata": {},
   "outputs": [],
   "source": [
    "def pair(src_img,output):\n",
    "    for i in range(src_img.shape[0]):\n",
    "        for j in range(src_img.shape[1]):\n",
    "            if src_img[i,j]!=' ':\n",
    "                x_var=x_pair(src_img,i,j)\n",
    "                if (x_var[0]!='b') or (x_var[1:].count('i')<1):\n",
    "                    output[i,j]='q'\n",
    "                if (x_var[0]=='b') and (x_var[1:].count('i')>=1):\n",
    "                    output[i,j]='p'\n",
    "    return output"
   ]
  },
  {
   "cell_type": "code",
   "execution_count": 10,
   "metadata": {},
   "outputs": [],
   "source": [
    "pair_img=np.full((64, 64),' ')\n",
    "pair_img=pair(interior_img,pair_img)"
   ]
  },
  {
   "cell_type": "code",
   "execution_count": 11,
   "metadata": {},
   "outputs": [
    {
     "data": {
      "text/plain": [
       "array([['p', 'p', 'p', ..., ' ', ' ', 'q'],\n",
       "       ['p', 'q', 'q', ..., ' ', 'q', ' '],\n",
       "       ['p', 'q', 'q', ..., 'q', ' ', ' '],\n",
       "       ...,\n",
       "       [' ', ' ', 'q', ..., ' ', ' ', ' '],\n",
       "       [' ', ' ', 'q', ..., ' ', ' ', ' '],\n",
       "       [' ', ' ', 'q', ..., ' ', ' ', ' ']], dtype='<U1')"
      ]
     },
     "execution_count": 11,
     "metadata": {},
     "output_type": "execute_result"
    }
   ],
   "source": [
    "pair_img"
   ]
  },
  {
   "cell_type": "code",
   "execution_count": 12,
   "metadata": {},
   "outputs": [
    {
     "name": "stdout",
     "output_type": "stream",
     "text": [
      "pppppppp        qqppppppppppqqqqqqqq     qppppppppppp       q  q\n",
      "\n",
      "pqqqqqqp         qpqqqqqqqqpq q qq  qq   qpqqqqqqqqqpp        q \n",
      "\n",
      "pqqqqqqp        q pppqqqqppp  qpppqqqq    pqqqqqqqqqqp      qq  \n",
      "\n",
      "pqqqqqqp        q q pqqppp qqqqpqpq       pqqqqqqqqqqpp     q   \n",
      "\n",
      "pqqqqqqp         qq pppp qq    ppp q q    pqqqqqqqqqqqpp   q    \n",
      "\n",
      "pqqqqqqp         q  q  qq q     q   q     pqqqqqqqqqqqqp  q     \n",
      "\n",
      "pqqqqqqp           qq q  pppppp    qqqq   pqqqqqqqqqqqqpp       \n",
      "\n",
      "pqpppqqp           qqqq qpqqqqpppp        pqqqqqqqqqqqqqp       \n",
      "\n",
      "ppp pqqp            q  qqpqqqqqqqpp       pqqqqqqqqqqqqpp       \n",
      "\n",
      "qq  pqqp                 pppqqqqqqpp      pqqpppqqqqqqpp        \n",
      "\n",
      "qq  pqqp                 q pqqqqqqqppp    pqqp ppqqqqpp         \n",
      "\n",
      "q   pqqp                 q pqqqqqqqqqpp   pqqp  ppqqqp         q\n",
      "\n",
      "    pqqp               pppppqqqqqqqqqqp   pqqp   pqqpp        qq\n",
      "\n",
      "    pqqp               pqqqqqqqqqqqqqqpp  pqqp   pppp        ppp\n",
      "\n",
      "    pqqp        q     qppppqqqqqqqqqqqqpp ppqp    qq        ppqp\n",
      "\n",
      "    pqqp        q    qq q pqqqqqqqqqqqqqpp pqp  ppppp       pqqp\n",
      "\n",
      "    pqqp        q    q   ppqqqqqqqqqqqqqqp pqp ppqqqp      ppqqp\n",
      "\n",
      "    pqqp        q       ppqqqqqqqqqqqqqqqpppqpppqqqpp     ppqqqp\n",
      "\n",
      "    pqqp       qq      qpqqqqqqqqqqqqqqqqqqqqqqqqqqp      pqqqqp\n",
      "\n",
      "    pqqp       qq   q qqpqqqqqqqqqqqqqqqqqqqqqqqqppp     ppqqqqp\n",
      "\n",
      "    pqqp       ppp   qq pqqqqqqqqqqqqqqqqqqqqqqqqp q     pqqqqqp\n",
      "\n",
      "    pqqp       pqpp  q qpqppppppppppppqqqqqqqqqppp      ppqqqqqp\n",
      "\n",
      "    pqqp       pqqpq  q ppp q qq  q  pqqqqqqqppp  q     pqqqqqqp\n",
      "\n",
      "    pqqp       ppqp  qqq q          ppqqqqqppp   q     ppqqqqqqp\n",
      "\n",
      "    pqqp        pqp q  qqq         ppqqqqppp  qqq      pqqqqqqqp\n",
      "\n",
      "    pqqp        pppq   q           pqqqqqp   qqq      qpqqqqqqqp\n",
      "\n",
      "    pqqp         q  q  q          ppqqqqqpp   q       qpqqqqqqqp\n",
      "\n",
      "    pqqp         q   q      q    ppqqqqqqqp  q       q pqqqqqqqp\n",
      "\n",
      "    pqqp         q              ppqqqqqqqqp          pppqqqqqqqp\n",
      "\n",
      "    pqqp         q  q          ppqqqqqqqqqp          pqqqqqqqqqp\n",
      "\n",
      "    pqqp          q           qpqppppqqqqqpq  q     ppqqqqqqqqqp\n",
      "\n",
      "    pqqp        q q          qqppp  ppqqqpp   q     pqqqqqqqqqqp\n",
      "\n",
      "    pqqp       qqq           qqq     pqppp    q     pqqqqqqqqqqp\n",
      "\n",
      "    pqqp      qqq q        qqqq   q  ppp  q   q    ppqqqqqqqqqqp\n",
      "\n",
      "    pqqp      qq           qqq q  qqq qq  q   q    pqqqqqqqqqqqp\n",
      "\n",
      "    pqqp    qq  q    q     qq ppp  qq pppp    q    pqqqqqqqqqqqp\n",
      "\n",
      "    pqqp     q      qq    qq  pqpppppqpqqp    q   ppqqqqqqqqqqqp\n",
      "\n",
      "    pqqp   q              q   pqqqqqpqpqqpp   q   pqqqqqqqqqqqqp\n",
      "\n",
      "    pqqp   q    q     q  qq  qpqqqqqp pqqqp    q  pqqqqqqqqqqqqp\n",
      "\n",
      "    pqqp   q             q    pqqqqpp ppqpp    q ppqqqqqqqqqqqqp\n",
      "\n",
      "    pqqp      q q      qq     pqqqqp q pqp     q pqqqqqqqqqqqqqp\n",
      "\n",
      "    pqqp               q      pqqqqppp pqp     q pqqqqqqqqqqqqqp\n",
      "\n",
      "    pqqp         q   q q     qpqqqqqqpqppp     q pqqqqqqqqqqqqqp\n",
      "\n",
      "    pqqp         q  qq       qppqpppppqqq      pppqqqqqqqqqqqqqp\n",
      "\n",
      "    pqqp  q      q qq          pqp    q q      pqqqqqqqpppqqqqqp\n",
      "\n",
      "    pqqp       q  q  q         pppq  qqq       pqqqqqqqp pqqqqqp\n",
      "\n",
      "    pqqp            q           qqpppppq       pqqqqqqqp pqqqqqp\n",
      "\n",
      "    pqqp        q                qpqqqp        pqqqqqqqp pqqqqpp\n",
      "\n",
      "    pqqp                          pqqqp        ppppppppp pqqqpp \n",
      "\n",
      "    ppqpq      q   qq          qqppqqqpp       q     qq ppqqpp  \n",
      "\n",
      "q    pqp q     q    q            pqqqqqppp     pppp     pqqpp   \n",
      "\n",
      "qq   pqpq          q             pqqqqqqqppp   pqqppp   pqpp    \n",
      "\n",
      " qq  pqpq          q             pqqqqqqqqqp   pqqqqp  ppqp     \n",
      "\n",
      "  q  pqp            q q        pppqqqqqqqqqpp  pqqqpp  pqpp     \n",
      "\n",
      "  q  pqpq    q        q        pqqqqqqqqqqqqpp pqqqp qppqp      \n",
      "\n",
      "  q  pqp           qqq         pqqqqqqqqqqqqqp pqqqpp pqqp      \n",
      "\n",
      "  q  pqpq                   q  pqqqqqqqqqqqqqp ppqqqp pqpp      \n",
      "\n",
      "  qq pqpq            qq        pqqqqqqqqqqqqqp  pppppppqp       \n",
      "\n",
      "  qq pqp          q           ppqqqqqqqqqqqqqpp    qqpqpp       \n",
      "\n",
      "  qq pqp                      pqqqqqqqqqqqqqqqp      pqp        \n",
      "\n",
      "  qq pqp            q        qpqqqqqqqqqqqqqqqp      ppp        \n",
      "\n",
      "  qq pqp                     qpqqqqqqqqqqqqqqqpp     q          \n",
      "\n",
      "  qq pqp                    q pqqqqqqqqqqqqqqqqp                \n",
      "\n",
      "  qq ppp        q            qpppppppppppppppppp                \n",
      "\n"
     ]
    }
   ],
   "source": [
    "for i in range(pair_img.shape[0]):\n",
    "    for j in range(pair_img.shape[1]):\n",
    "        print(pair_img[i,j],end='')\n",
    "    print(\"\\n\")"
   ]
  },
  {
   "cell_type": "markdown",
   "metadata": {},
   "source": [
    "#### Step4. Connected Shrink Operation  -- 8-connectivity"
   ]
  },
  {
   "cell_type": "code",
   "execution_count": 13,
   "metadata": {},
   "outputs": [],
   "source": [
    "def h_shrink(b,c,d,e):\n",
    "    if (b!=c) and ((b==d) or (b==e)):\n",
    "        return 1\n",
    "    else:\n",
    "        return 0"
   ]
  },
  {
   "cell_type": "code",
   "execution_count": 14,
   "metadata": {},
   "outputs": [],
   "source": [
    "def f_shrink(a1,a2,a3,a4,x0):\n",
    "    a_list=[a1,a2,a3,a4]\n",
    "    if a_list.count(1)==1:\n",
    "        return 'g'\n",
    "    else:\n",
    "        return x0"
   ]
  },
  {
   "cell_type": "code",
   "execution_count": 15,
   "metadata": {},
   "outputs": [],
   "source": [
    "#get the value of each position\n",
    "def x_shrink(src_img,row,col):\n",
    "    pos=[[0,0],[0,1],[-1,0],[0,-1],[1,0],[1,1],[-1,1],[-1,-1],[1,-1]]\n",
    "    x_var=[]\n",
    "    for i in range(9):\n",
    "        if (0<=row+pos[i][0]<=63) and (0<=col+pos[i][1]<=63) and (src_img[row+pos[i][0], col+pos[i][1]]==255):\n",
    "            x_var.append(1)\n",
    "        else:\n",
    "            x_var.append(0)\n",
    "    return x_var"
   ]
  },
  {
   "cell_type": "code",
   "execution_count": 28,
   "metadata": {},
   "outputs": [],
   "source": [
    "def con_shrink(src_img, pair_img):\n",
    "    for i in range(src_img.shape[0]):\n",
    "        for j in range(src_img.shape[1]):\n",
    "            if src_img[i,j]==255:\n",
    "                x_var=x_shrink(src_img,i,j)\n",
    "                a1=h_shrink(x_var[0],x_var[1],x_var[6],x_var[2])\n",
    "                a2=h_shrink(x_var[0],x_var[2],x_var[7],x_var[3])\n",
    "                a3=h_shrink(x_var[0],x_var[3],x_var[8],x_var[4])\n",
    "                a4=h_shrink(x_var[0],x_var[4],x_var[5],x_var[1])\n",
    "                #output[i,j]=f_shrink(a1,a2,a3,a4,x_var[0])\n",
    "                if f_shrink(a1,a2,a3,a4,x_var[0])=='g' and pair_img[i,j]=='p':\n",
    "                    src_img[i,j]=0\n",
    "                #else:\n",
    "                    #src_img[i,j]=x_var[0]\n",
    "    return src_img"
   ]
  },
  {
   "cell_type": "markdown",
   "metadata": {},
   "source": [
    "#### Step5. Repeat, until the last output never changed"
   ]
  },
  {
   "cell_type": "markdown",
   "metadata": {},
   "source": [
    "#### Step5.1 Check if two images are the same"
   ]
  },
  {
   "cell_type": "code",
   "execution_count": 20,
   "metadata": {},
   "outputs": [],
   "source": [
    "def issame(image1, image2):\n",
    "    if image1.shape == image2.shape and not(np.bitwise_xor(image1,image2).any()):\n",
    "        return True\n",
    "    else:\n",
    "        return False"
   ]
  },
  {
   "cell_type": "markdown",
   "metadata": {},
   "source": [
    "#### Step5.2. "
   ]
  },
  {
   "cell_type": "code",
   "execution_count": 29,
   "metadata": {},
   "outputs": [],
   "source": [
    "image_thin=copy.deepcopy(downsample)\n",
    "\n",
    "while True:\n",
    "    #image_last: used to check if last output never changed\n",
    "    image_last=copy.deepcopy(image_thin)\n",
    "\n",
    "    #image_ib: image of interior/ border\n",
    "    image_ib=np.full((64, 64),' ')\n",
    "    image_ib=interior(image_thin,image_ib)\n",
    "\n",
    "    #image_mark: mark image by pair relationship operator\n",
    "    image_mark=np.full((64, 64),' ')\n",
    "    image_mark=pair(image_ib,image_mark)\n",
    "\n",
    "    image_thin=con_shrink(image_thin, image_mark)\n",
    "\n",
    "    if issame(image_thin,image_last) is True:\n",
    "        break"
   ]
  },
  {
   "cell_type": "code",
   "execution_count": 30,
   "metadata": {},
   "outputs": [],
   "source": [
    "final=np.zeros((64, 64, 3))\n",
    "\n",
    "for i in range(final.shape[0]):\n",
    "    for j in range(final.shape[1]):\n",
    "        if image_thin[i,j]==255:\n",
    "            final[i,j]=255"
   ]
  },
  {
   "cell_type": "code",
   "execution_count": 31,
   "metadata": {},
   "outputs": [
    {
     "name": "stderr",
     "output_type": "stream",
     "text": [
      "Clipping input data to the valid range for imshow with RGB data ([0..1] for floats or [0..255] for integers).\n"
     ]
    },
    {
     "data": {
      "text/plain": [
       "<matplotlib.image.AxesImage at 0x20e8c8dd048>"
      ]
     },
     "execution_count": 31,
     "metadata": {},
     "output_type": "execute_result"
    },
    {
     "data": {
      "image/png": "[encoded data removed]",
      "text/plain": [
       "<Figure size 432x288 with 1 Axes>"
      ]
     },
     "metadata": {},
     "output_type": "display_data"
    }
   ],
   "source": [
    "%matplotlib inline\n",
    "plt.imshow(final)"
   ]
  },
  {
   "cell_type": "code",
   "execution_count": null,
   "metadata": {},
   "outputs": [],
   "source": []
  }
 ],
 "metadata": {
  "kernelspec": {
   "display_name": "Python 3",
   "language": "python",
   "name": "python3"
  },
  "language_info": {
   "codemirror_mode": {
    "name": "ipython",
    "version": 3
   },
   "file_extension": ".py",
   "mimetype": "text/x-python",
   "name": "python",
   "nbconvert_exporter": "python",
   "pygments_lexer": "ipython3",
   "version": "3.6.5"
  }
 },
 "nbformat": 4,
 "nbformat_minor": 2
}
